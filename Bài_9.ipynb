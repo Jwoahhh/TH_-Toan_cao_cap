{
  "nbformat": 4,
  "nbformat_minor": 0,
  "metadata": {
    "colab": {
      "name": "Bài_9.ipynb",
      "provenance": [],
      "authorship_tag": "ABX9TyPxSK+Np0J9MR15t4g4AT3z",
      "include_colab_link": true
    },
    "kernelspec": {
      "name": "python3",
      "display_name": "Python 3"
    },
    "language_info": {
      "name": "python"
    }
  },
  "cells": [
    {
      "cell_type": "markdown",
      "metadata": {
        "id": "view-in-github",
        "colab_type": "text"
      },
      "source": [
        "<a href=\"https://colab.research.google.com/github/Jwoahhh/TH_-Toan_cao_cap/blob/main/B%C3%A0i_9.ipynb\" target=\"_parent\"><img src=\"https://colab.research.google.com/assets/colab-badge.svg\" alt=\"Open In Colab\"/></a>"
      ]
    },
    {
      "cell_type": "markdown",
      "source": [
        "**Thực hành 2:** Tính toán các giá trị của thủy triều. "
      ],
      "metadata": {
        "id": "aodB7PzEmEW-"
      }
    },
    {
      "cell_type": "markdown",
      "source": [
        "A"
      ],
      "metadata": {
        "id": "f11Ro78hnifA"
      }
    },
    {
      "cell_type": "code",
      "execution_count": 2,
      "metadata": {
        "id": "ROO3tOJCl01G",
        "outputId": "a49c4cb1-6d56-4cfb-dac6-3fb8ad30c6c4",
        "colab": {
          "base_uri": "https://localhost:8080/"
        }
      },
      "outputs": [
        {
          "output_type": "stream",
          "name": "stdout",
          "text": [
            "2.39089914998767\n"
          ]
        }
      ],
      "source": [
        "from sympy import sin\n",
        "dD3 = -2.515*sin(0.503*3-3.39525)\n",
        "print (dD3)"
      ]
    },
    {
      "cell_type": "markdown",
      "source": [
        "B"
      ],
      "metadata": {
        "id": "EApbPiRsncik"
      }
    },
    {
      "cell_type": "code",
      "source": [
        "from sympy import sin\n",
        "dD6 = -2.515*sin(0.503*6-3.39525)\n",
        "print (dD6)"
      ],
      "metadata": {
        "id": "zGIF5ZDtndcC",
        "outputId": "312514ff-2ad0-4ec6-8c78-acb70dd2d6c3",
        "colab": {
          "base_uri": "https://localhost:8080/"
        }
      },
      "execution_count": 5,
      "outputs": [
        {
          "output_type": "stream",
          "name": "stdout",
          "text": [
            "0.926438584489859\n"
          ]
        }
      ]
    },
    {
      "cell_type": "markdown",
      "source": [
        ""
      ],
      "metadata": {
        "id": "UXsfqaB3njre"
      }
    }
  ]
}