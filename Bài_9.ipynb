{
  "nbformat": 4,
  "nbformat_minor": 0,
  "metadata": {
    "colab": {
      "name": "Bài_9.ipynb",
      "provenance": [],
      "authorship_tag": "ABX9TyPhXjuk3XjSdaVbL/4BsQY8",
      "include_colab_link": true
    },
    "kernelspec": {
      "name": "python3",
      "display_name": "Python 3"
    },
    "language_info": {
      "name": "python"
    }
  },
  "cells": [
    {
      "cell_type": "markdown",
      "metadata": {
        "id": "view-in-github",
        "colab_type": "text"
      },
      "source": [
        "<a href=\"https://colab.research.google.com/github/Jwoahhh/TH_-Toan_cao_cap/blob/main/B%C3%A0i_9.ipynb\" target=\"_parent\"><img src=\"https://colab.research.google.com/assets/colab-badge.svg\" alt=\"Open In Colab\"/></a>"
      ]
    },
    {
      "cell_type": "markdown",
      "source": [
        "**Thực hành 2:** Tính toán các giá trị của thủy triều. "
      ],
      "metadata": {
        "id": "aodB7PzEmEW-"
      }
    },
    {
      "cell_type": "markdown",
      "source": [
        "A"
      ],
      "metadata": {
        "id": "f11Ro78hnifA"
      }
    },
    {
      "cell_type": "code",
      "execution_count": null,
      "metadata": {
        "id": "ROO3tOJCl01G",
        "outputId": "a49c4cb1-6d56-4cfb-dac6-3fb8ad30c6c4",
        "colab": {
          "base_uri": "https://localhost:8080/"
        }
      },
      "outputs": [
        {
          "output_type": "stream",
          "name": "stdout",
          "text": [
            "2.39089914998767\n"
          ]
        }
      ],
      "source": [
        "from sympy import sin\n",
        "dD3 = -2.515*sin(0.503*3-3.39525)\n",
        "print (dD3)"
      ]
    },
    {
      "cell_type": "markdown",
      "source": [
        "B"
      ],
      "metadata": {
        "id": "EApbPiRsncik"
      }
    },
    {
      "cell_type": "code",
      "source": [
        "from sympy import sin\n",
        "dD6 = -2.515*sin(0.503*6-3.39525)\n",
        "print (dD6)"
      ],
      "metadata": {
        "id": "zGIF5ZDtndcC",
        "outputId": "312514ff-2ad0-4ec6-8c78-acb70dd2d6c3",
        "colab": {
          "base_uri": "https://localhost:8080/"
        }
      },
      "execution_count": null,
      "outputs": [
        {
          "output_type": "stream",
          "name": "stdout",
          "text": [
            "0.926438584489859\n"
          ]
        }
      ]
    },
    {
      "cell_type": "markdown",
      "source": [
        "C."
      ],
      "metadata": {
        "id": "UXsfqaB3njre"
      }
    },
    {
      "cell_type": "code",
      "source": [
        "from sympy import sin\n",
        "dD9 = -2.515*sin(0.503*9-3.39525)\n",
        "print (dD9)"
      ],
      "metadata": {
        "id": "BfI9yPVovoIg",
        "outputId": "d944a14f-8ea2-4c5e-9916-e455b71b46ba",
        "colab": {
          "base_uri": "https://localhost:8080/"
        }
      },
      "execution_count": 7,
      "outputs": [
        {
          "output_type": "stream",
          "name": "stdout",
          "text": [
            "-2.27647100883368\n"
          ]
        }
      ]
    },
    {
      "cell_type": "markdown",
      "source": [
        "D."
      ],
      "metadata": {
        "id": "p_N_C68Qv0ld"
      }
    },
    {
      "cell_type": "code",
      "source": [
        "from sympy import sin\n",
        "dD12 = -2.515*sin(0.503*12 - 3.39525)\n",
        "print (dD12)"
      ],
      "metadata": {
        "id": "lYlPYMjqv1s7",
        "outputId": "ba5ef2b7-e4ad-4004-8dec-e7cc9cb87030",
        "colab": {
          "base_uri": "https://localhost:8080/"
        }
      },
      "execution_count": 9,
      "outputs": [
        {
          "output_type": "stream",
          "name": "stdout",
          "text": [
            "-1.20761463899889\n"
          ]
        }
      ]
    },
    {
      "cell_type": "markdown",
      "source": [
        "**Thực hành 3: Bài toán Sức khỏe cộng đồng (public health) - Khớp đường cong hàm bậc 1**"
      ],
      "metadata": {
        "id": "u50_ULoKv_Pl"
      }
    },
    {
      "cell_type": "code",
      "source": [
        "from scipy.optimize import curve_fit\n",
        "import numpy as np\n",
        "x_data = np.array([3.4, 4.6, 5.2, 8.0, 10.7])\n",
        "y_data = np.array([ 48, 52, 58, 76, 96 ])\n",
        "import matplotlib.pyplot as plt\n",
        "plt.plot(x_data, y_data, 'b-', label='data') \n",
        "def ham_bac_1(x, a, b):\n",
        "  return a*x + b\n",
        "duongcong, saiso = curve_fit(ham_bac_1, x_data, y_data)\n",
        "duongcong\n",
        "gia_tri_73 = ham_bac_1(7.3, *duongcong)\n",
        "print (gia_tri_73)"
      ],
      "metadata": {
        "id": "sGG1HJI2wEuc",
        "outputId": "b0915ce3-b5bb-4b26-d79f-cff5c47689d7",
        "colab": {
          "base_uri": "https://localhost:8080/",
          "height": 282
        }
      },
      "execution_count": 14,
      "outputs": [
        {
          "output_type": "stream",
          "name": "stdout",
          "text": [
            "72.19373416378475\n"
          ]
        },
        {
          "output_type": "display_data",
          "data": {
            "text/plain": [
              "<Figure size 432x288 with 1 Axes>"
            ],
            "image/png": "[encoded data removed]"
          },
          "metadata": {
            "needs_background": "light"
          }
        }
      ]
    },
    {
      "cell_type": "code",
      "source": [
        "plt.plot(x_data, ham_bac_1(x_data, *duongcong), 'r-', label='fit')\n",
        "plt.xlabel('Truc X')\n",
        "plt.ylabel('Truc Y')\n",
        "plt.legend()\n",
        "plt.show()"
      ],
      "metadata": {
        "id": "vB_nDqn9whkQ",
        "outputId": "fd3d52f1-272c-4bb2-9c05-ffbbd759dd29",
        "colab": {
          "base_uri": "https://localhost:8080/",
          "height": 279
        }
      },
      "execution_count": 15,
      "outputs": [
        {
          "output_type": "display_data",
          "data": {
            "text/plain": [
              "<Figure size 432x288 with 1 Axes>"
            ],
            "image/png": "[encoded data removed]"
          },
          "metadata": {
            "needs_background": "light"
          }
        }
      ]
    },
    {
      "cell_type": "markdown",
      "source": [
        "**Thực hành 4: Bài toán Sức khỏe cộng đồng (public health) – Khớp đường cong hàm bậc 2**"
      ],
      "metadata": {
        "id": "pZtp61Iswvi-"
      }
    },
    {
      "cell_type": "code",
      "source": [
        "def ham_bac_1(x, a, b):\n",
        "  return a*x + b"
      ],
      "metadata": {
        "id": "KEtfNPUAwxpi"
      },
      "execution_count": 16,
      "outputs": []
    },
    {
      "cell_type": "code",
      "source": [
        " def ham_bac_2(x, a, b, c):\n",
        "  return a*x**2 + b*x + c "
      ],
      "metadata": {
        "id": "ULYUR9b5w46S"
      },
      "execution_count": 17,
      "outputs": []
    },
    {
      "cell_type": "markdown",
      "source": [
        "**Thực hành 5: Tính tích phân bội/kép**"
      ],
      "metadata": {
        "id": "_PtElNTOxAbR"
      }
    },
    {
      "cell_type": "code",
      "source": [
        "from sympy import *\n",
        "x, y = symbols(\"x y\")\n",
        "f = (3*x ** 2 - y)\n",
        "tp = integrate(f, (y, 0, 3), (x, 0, 2))\n",
        "tp"
      ],
      "metadata": {
        "id": "evVyA1CsxOXd",
        "outputId": "508418a4-be50-4009-96cc-107f7538da94",
        "colab": {
          "base_uri": "https://localhost:8080/",
          "height": 37
        }
      },
      "execution_count": 18,
      "outputs": [
        {
          "output_type": "execute_result",
          "data": {
            "text/plain": [
              "15"
            ],
            "text/latex": "$\\displaystyle 15$"
          },
          "metadata": {},
          "execution_count": 18
        }
      ]
    },
    {
      "cell_type": "code",
      "source": [
        "tp = integrate(f, (x, 0, 2), (y, 0, 3))\n",
        "tp"
      ],
      "metadata": {
        "id": "-3eeQ3ibxVIw",
        "outputId": "e3f64c63-c53f-479a-ce75-500394a218d8",
        "colab": {
          "base_uri": "https://localhost:8080/",
          "height": 37
        }
      },
      "execution_count": 19,
      "outputs": [
        {
          "output_type": "execute_result",
          "data": {
            "text/plain": [
              "15"
            ],
            "text/latex": "$\\displaystyle 15$"
          },
          "metadata": {},
          "execution_count": 19
        }
      ]
    },
    {
      "cell_type": "markdown",
      "source": [
        "**Thực hành 6: Tính tích phân bội/kép**"
      ],
      "metadata": {
        "id": "QjH_zFgoxbdJ"
      }
    },
    {
      "cell_type": "code",
      "source": [
        "from sympy import *\n",
        "x, y = symbols(\"x y\")\n",
        "f = x* y\n",
        "tp = integrate(f, (y, x, 2-x*x), (x, -2, 1))\n",
        "tp"
      ],
      "metadata": {
        "id": "-Wj-Ce1jxlhe",
        "outputId": "7bb8b323-5510-419e-f565-4c58619972cf",
        "colab": {
          "base_uri": "https://localhost:8080/",
          "height": 51
        }
      },
      "execution_count": 20,
      "outputs": [
        {
          "output_type": "execute_result",
          "data": {
            "text/plain": [
              "9/8"
            ],
            "text/latex": "$\\displaystyle \\frac{9}{8}$"
          },
          "metadata": {},
          "execution_count": 20
        }
      ]
    }
  ]
}